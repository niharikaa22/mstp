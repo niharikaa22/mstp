{
 "cells": [
  {
   "cell_type": "markdown",
   "metadata": {},
   "source": [
    "Special Number check:\n",
    "\n",
    "\n",
    "4    0                     \n",
    "5    0\n",
    "6    0\n",
    "7    0\n",
    "8    1\n",
    "\n",
    "special Number ------>  sum of any two distinct single digit odd prime number with each of the prime number having a positive power.\n",
    "\n",
    "3  5  7 ----> single digit prime numbers\n",
    "\n",
    "8 --> 3^1 + 5^1\n",
    "10 -> 5 + 7\n",
    "12 -> 5 + 7\n",
    "14 -> 3^2 + 5^1\n",
    "15 -> 3^2 + 7^1\n",
    "28 -> 5^2 + 3^1\n",
    "32 -> 5^2 + 7^1 , 3^3 + 5^1\n",
    "34 -> 3^3 + 7^1\n"
   ]
  },
  {
   "cell_type": "code",
   "execution_count": 32,
   "metadata": {},
   "outputs": [
    {
     "data": {
      "text/plain": [
       "False"
      ]
     },
     "execution_count": 32,
     "metadata": {},
     "output_type": "execute_result"
    }
   ],
   "source": [
    "def specialnumbercheck(n):\n",
    "    list3 = []\n",
    "    list5 = []\n",
    "    list7 = []\n",
    "    fp = 10\n",
    "    for i in range(11):\n",
    "        list3.append(3 ** i)\n",
    "        list5.append(5 ** i)\n",
    "        list7.append(7 ** i)\n",
    "    for i in range(10):\n",
    "        for j in range(10):\n",
    "            if list3[i] + list5[j] == n or list3[i] + list7[j] == n:\n",
    "                return True\n",
    "    for i in range(10):\n",
    "        for j in range(10):\n",
    "            if list5[i] + list7[j] == n:\n",
    "                return True\n",
    "        return False\n",
    "#specialnumbercheck(5)\n",
    "        "
   ]
  },
  {
   "cell_type": "code",
   "execution_count": 49,
   "metadata": {},
   "outputs": [
    {
     "name": "stdout",
     "output_type": "stream",
     "text": [
      "1\n",
      "4\n",
      "7\n",
      "8\n",
      "32\n"
     ]
    }
   ],
   "source": [
    "##### convert a number to a special number by adding 1:\n",
    "\n",
    "\n",
    "def specialnumbercheck(n):\n",
    "    list3=[]\n",
    "    list5=[]\n",
    "    list7=[]\n",
    "    fp=10\n",
    "    for i in range(1,11):\n",
    "        list3.append(3**i)\n",
    "        list5.append(5**i)\n",
    "        list7.append(7**i)\n",
    "    #print(list3,list5,list7)\n",
    "    for j in range(len(list3)):\n",
    "        for k in range(len(list5)):\n",
    "            if list3[j] +list5[k] == n or list3[j] + list7[k] == n :\n",
    "                return True\n",
    "    for j in range(len(list3)):\n",
    "        for k in range(len(list5)):\n",
    "            if list5[j] + list7[k] == n:\n",
    "                return True\n",
    "    return False\n",
    "\n",
    "\n",
    "\n",
    "def nextSpecialNumber(n):\n",
    "    c=0\n",
    "    while(n!=0):\n",
    "        if specialnumbercheck(n)==False:\n",
    "            c+=1\n",
    "            n+=1\n",
    "        else:\n",
    "            break\n",
    "    return c\n",
    "\n",
    "nextSpecialNumber(5)\n",
    " \n",
    "\n",
    "def preSpecialNumber(n):\n",
    "    count=0\n",
    "    while(n!=0):\n",
    "        if specialnumbercheck(n)==False:\n",
    "            count+=1\n",
    "            n-=1\n",
    "        else:\n",
    "            break\n",
    "    return count\n",
    "\n",
    "#preSpecialNumber(11)\n",
    "\n",
    "t = int(input())\n",
    "for i in range(t):\n",
    "    n = int(input())\n",
    "    inc = int(input())\n",
    "    dec = int(input())\n",
    "    if nextSpecialNumber(n) < preSpecialNumber(n):\n",
    "        print(inc*(nextSpecialNumber(n)))\n",
    "    else:\n",
    "        print(dec*(preSpecialNumber(n)))\n",
    "\n",
    " \n",
    "\n",
    "\n",
    "\n",
    "\n",
    "\n",
    "\n",
    "\n"
   ]
  },
  {
   "cell_type": "code",
   "execution_count": null,
   "metadata": {},
   "outputs": [],
   "source": []
  },
  {
   "cell_type": "code",
   "execution_count": null,
   "metadata": {},
   "outputs": [],
   "source": []
  }
 ],
 "metadata": {
  "kernelspec": {
   "display_name": "Python 3",
   "language": "python",
   "name": "python3"
  },
  "language_info": {
   "codemirror_mode": {
    "name": "ipython",
    "version": 3
   },
   "file_extension": ".py",
   "mimetype": "text/x-python",
   "name": "python",
   "nbconvert_exporter": "python",
   "pygments_lexer": "ipython3",
   "version": "3.7.3"
  }
 },
 "nbformat": 4,
 "nbformat_minor": 2
}
